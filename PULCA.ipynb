{
  "nbformat": 4,
  "nbformat_minor": 0,
  "metadata": {
    "colab": {
      "provenance": [],
      "collapsed_sections": []
    },
    "kernelspec": {
      "name": "python3",
      "display_name": "Python 3"
    },
    "accelerator": "GPU",
    "gpuClass": "standard"
  },
  "cells": [
    {
      "cell_type": "code",
      "source": [
        "from google.colab import drive\n",
        "drive.mount('/content/drive/')"
      ],
      "metadata": {
        "id": "3AXHuF9BZNF0",
        "colab": {
          "base_uri": "https://localhost:8080/"
        },
        "outputId": "b4f3261b-0008-42a8-a262-af9fec84be29"
      },
      "execution_count": 1,
      "outputs": [
        {
          "output_type": "stream",
          "name": "stdout",
          "text": [
            "Mounted at /content/drive/\n"
          ]
        }
      ]
    },
    {
      "cell_type": "code",
      "metadata": {
        "id": "klZeEzJSqUvQ"
      },
      "source": [
        "TRAIN_PATH = \"/content/drive/Shareddrives/PULCA/Dataset/train/train3classes\"\n",
        "VAL_PATH = \"/content/drive/Shareddrives/PULCA/Dataset/val/val3classes\""
      ],
      "execution_count": 2,
      "outputs": []
    },
    {
      "cell_type": "code",
      "metadata": {
        "id": "1s_VfacWrA-E"
      },
      "source": [
        "import numpy as np\n",
        "import matplotlib.pyplot as plt\n",
        "import keras\n",
        "from keras.layers import *\n",
        "from keras.models import * \n",
        "from keras.preprocessing import image"
      ],
      "execution_count": 3,
      "outputs": []
    },
    {
      "cell_type": "code",
      "metadata": {
        "id": "2vRL0YMtrIsn"
      },
      "source": [
        "# CNN Based Model in Keras\n",
        "\n",
        "model = Sequential()\n",
        "model.add(Conv2D(32,kernel_size=(3,3),activation='relu',input_shape=(224,224,3)))\n",
        "model.add(Conv2D(64,(3,3),activation='relu'))\n",
        "model.add(MaxPooling2D(pool_size=(2,2)))\n",
        "model.add(Dropout(0.25))\n",
        "\n",
        "model.add(Conv2D(64,(3,3),activation='relu'))\n",
        "model.add(MaxPooling2D(pool_size=(2,2)))\n",
        "model.add(Dropout(0.25))\n",
        "\n",
        "model.add(Conv2D(128,(3,3),activation='relu'))\n",
        "model.add(MaxPooling2D(pool_size=(2,2)))\n",
        "model.add(Dropout(0.25))\n",
        "\n",
        "# tambahan layer filter\n",
        "\n",
        "model.add(Conv2D(256,(3,3), activation='relu'))\n",
        "model.add(MaxPooling2D(pool_size=(2,2)))\n",
        "model.add(Dropout(0.25))\n",
        "\n",
        "# model.add(Conv2D(512,(3,3), activation='relu'))\n",
        "# model.add(MaxPooling2D(pool_size=(2,2)))\n",
        "# model.add(Dropout(0.25))\n",
        "\n",
        "# model.add(Conv2D(1024,(3,3), activation='relu'))\n",
        "# model.add(MaxPooling2D(pool_size=(2,2)))\n",
        "# model.add(Dropout(0.25))\n",
        "# --------------------------------------------\n",
        "model.add(Flatten())\n",
        "model.add(Dense(64,activation='relu'))\n",
        "model.add(Dropout(0.5))\n",
        "model.add(Dense(1,activation='sigmoid'))\n",
        "\n",
        "model.compile(loss=keras.losses.binary_crossentropy,optimizer='adam',metrics=['accuracy'])"
      ],
      "execution_count": 4,
      "outputs": []
    },
    {
      "cell_type": "code",
      "metadata": {
        "id": "gNxzu23Ouxcp",
        "colab": {
          "base_uri": "https://localhost:8080/"
        },
        "outputId": "9ad3a484-3d74-4cee-dedc-785140d29332"
      },
      "source": [
        "model.summary()"
      ],
      "execution_count": 5,
      "outputs": [
        {
          "output_type": "stream",
          "name": "stdout",
          "text": [
            "Model: \"sequential\"\n",
            "_________________________________________________________________\n",
            " Layer (type)                Output Shape              Param #   \n",
            "=================================================================\n",
            " conv2d (Conv2D)             (None, 222, 222, 32)      896       \n",
            "                                                                 \n",
            " conv2d_1 (Conv2D)           (None, 220, 220, 64)      18496     \n",
            "                                                                 \n",
            " max_pooling2d (MaxPooling2D  (None, 110, 110, 64)     0         \n",
            " )                                                               \n",
            "                                                                 \n",
            " dropout (Dropout)           (None, 110, 110, 64)      0         \n",
            "                                                                 \n",
            " conv2d_2 (Conv2D)           (None, 108, 108, 64)      36928     \n",
            "                                                                 \n",
            " max_pooling2d_1 (MaxPooling  (None, 54, 54, 64)       0         \n",
            " 2D)                                                             \n",
            "                                                                 \n",
            " dropout_1 (Dropout)         (None, 54, 54, 64)        0         \n",
            "                                                                 \n",
            " conv2d_3 (Conv2D)           (None, 52, 52, 128)       73856     \n",
            "                                                                 \n",
            " max_pooling2d_2 (MaxPooling  (None, 26, 26, 128)      0         \n",
            " 2D)                                                             \n",
            "                                                                 \n",
            " dropout_2 (Dropout)         (None, 26, 26, 128)       0         \n",
            "                                                                 \n",
            " conv2d_4 (Conv2D)           (None, 24, 24, 256)       295168    \n",
            "                                                                 \n",
            " max_pooling2d_3 (MaxPooling  (None, 12, 12, 256)      0         \n",
            " 2D)                                                             \n",
            "                                                                 \n",
            " dropout_3 (Dropout)         (None, 12, 12, 256)       0         \n",
            "                                                                 \n",
            " flatten (Flatten)           (None, 36864)             0         \n",
            "                                                                 \n",
            " dense (Dense)               (None, 64)                2359360   \n",
            "                                                                 \n",
            " dropout_4 (Dropout)         (None, 64)                0         \n",
            "                                                                 \n",
            " dense_1 (Dense)             (None, 1)                 65        \n",
            "                                                                 \n",
            "=================================================================\n",
            "Total params: 2,784,769\n",
            "Trainable params: 2,784,769\n",
            "Non-trainable params: 0\n",
            "_________________________________________________________________\n"
          ]
        }
      ]
    },
    {
      "cell_type": "code",
      "metadata": {
        "id": "2nnojiosu2YM"
      },
      "source": [
        "train_datagen = image.ImageDataGenerator(\n",
        "    rescale=1./255,\n",
        "    rotation_range = 40,\n",
        "    width_shift_range = 0.2,\n",
        "    height_shift_range = 0.2,\n",
        "    shear_range = 0.2,\n",
        "    zoom_range = 0.2,\n",
        "    horizontal_flip = False,\n",
        ") \n",
        "\n",
        "test_dataset = image.ImageDataGenerator(rescale=1./255)"
      ],
      "execution_count": 6,
      "outputs": []
    },
    {
      "cell_type": "code",
      "metadata": {
        "id": "iLC3vWiHv2s8",
        "colab": {
          "base_uri": "https://localhost:8080/"
        },
        "outputId": "b5ce1918-8023-41c6-8370-d39045a2f5a3"
      },
      "source": [
        "train_generator = train_datagen.flow_from_directory(\n",
        "    TRAIN_PATH,\n",
        "    target_size = (224,224),\n",
        "    batch_size = 32,\n",
        "    class_mode = 'binary')\n"
      ],
      "execution_count": 7,
      "outputs": [
        {
          "output_type": "stream",
          "name": "stdout",
          "text": [
            "Found 1561 images belonging to 2 classes.\n"
          ]
        }
      ]
    },
    {
      "cell_type": "code",
      "metadata": {
        "id": "q_ov9LTgwQSg",
        "colab": {
          "base_uri": "https://localhost:8080/"
        },
        "outputId": "47eef61c-90c3-448b-ce86-2c1c3b065109"
      },
      "source": [
        "train_generator.class_indices"
      ],
      "execution_count": 8,
      "outputs": [
        {
          "output_type": "execute_result",
          "data": {
            "text/plain": [
              "{'COVID-19': 0, 'Normal': 1}"
            ]
          },
          "metadata": {},
          "execution_count": 8
        }
      ]
    },
    {
      "cell_type": "code",
      "metadata": {
        "id": "0RQ5LeuQwmxj",
        "colab": {
          "base_uri": "https://localhost:8080/"
        },
        "outputId": "53334488-6865-4cb0-ee4e-0c56c4fa674f"
      },
      "source": [
        "validation_generator = test_dataset.flow_from_directory(\n",
        "    VAL_PATH,\n",
        "    target_size = (224,224),\n",
        "    batch_size = 32,\n",
        "    class_mode = 'binary')"
      ],
      "execution_count": 9,
      "outputs": [
        {
          "output_type": "stream",
          "name": "stdout",
          "text": [
            "Found 459 images belonging to 2 classes.\n"
          ]
        }
      ]
    },
    {
      "cell_type": "code",
      "metadata": {
        "id": "pGuVlZF5wZsh",
        "colab": {
          "base_uri": "https://localhost:8080/"
        },
        "outputId": "8a2631ad-3cd1-4cf7-a960-38d30c90fa88"
      },
      "source": [
        "hist = model.fit_generator(\n",
        "    train_generator,\n",
        "    steps_per_epoch=8,\n",
        "    epochs = 40,\n",
        "    validation_data = validation_generator,\n",
        "    validation_steps=2\n",
        ") "
      ],
      "execution_count": 10,
      "outputs": [
        {
          "output_type": "stream",
          "name": "stderr",
          "text": [
            "/usr/local/lib/python3.7/dist-packages/ipykernel_launcher.py:6: UserWarning: `Model.fit_generator` is deprecated and will be removed in a future version. Please use `Model.fit`, which supports generators.\n",
            "  \n"
          ]
        },
        {
          "output_type": "stream",
          "name": "stdout",
          "text": [
            "Epoch 1/40\n",
            "8/8 [==============================] - 101s 11s/step - loss: 1.0184 - accuracy: 0.5078 - val_loss: 0.6745 - val_accuracy: 0.9688\n",
            "Epoch 2/40\n",
            "8/8 [==============================] - 69s 9s/step - loss: 0.7043 - accuracy: 0.6055 - val_loss: 0.6697 - val_accuracy: 1.0000\n",
            "Epoch 3/40\n",
            "8/8 [==============================] - 57s 7s/step - loss: 0.6886 - accuracy: 0.6016 - val_loss: 0.6783 - val_accuracy: 0.9688\n",
            "Epoch 4/40\n",
            "8/8 [==============================] - 53s 7s/step - loss: 0.6916 - accuracy: 0.5391 - val_loss: 0.6683 - val_accuracy: 0.9844\n",
            "Epoch 5/40\n",
            "8/8 [==============================] - 39s 5s/step - loss: 0.6883 - accuracy: 0.5664 - val_loss: 0.6609 - val_accuracy: 1.0000\n",
            "Epoch 6/40\n",
            "8/8 [==============================] - 34s 5s/step - loss: 0.6749 - accuracy: 0.6094 - val_loss: 0.5867 - val_accuracy: 0.9688\n",
            "Epoch 7/40\n",
            "8/8 [==============================] - 24s 3s/step - loss: 0.6888 - accuracy: 0.6094 - val_loss: 0.6312 - val_accuracy: 0.9844\n",
            "Epoch 8/40\n",
            "8/8 [==============================] - 23s 3s/step - loss: 0.6867 - accuracy: 0.5469 - val_loss: 0.6519 - val_accuracy: 1.0000\n",
            "Epoch 9/40\n",
            "8/8 [==============================] - 23s 3s/step - loss: 0.6838 - accuracy: 0.5664 - val_loss: 0.6522 - val_accuracy: 0.9688\n",
            "Epoch 10/40\n",
            "8/8 [==============================] - 17s 2s/step - loss: 0.6751 - accuracy: 0.6055 - val_loss: 0.5394 - val_accuracy: 0.9844\n",
            "Epoch 11/40\n",
            "8/8 [==============================] - 12s 2s/step - loss: 0.6840 - accuracy: 0.5703 - val_loss: 0.6820 - val_accuracy: 0.7812\n",
            "Epoch 12/40\n",
            "8/8 [==============================] - 14s 2s/step - loss: 0.6364 - accuracy: 0.6484 - val_loss: 0.3799 - val_accuracy: 0.9688\n",
            "Epoch 13/40\n",
            "8/8 [==============================] - 11s 1s/step - loss: 0.6860 - accuracy: 0.5352 - val_loss: 0.6783 - val_accuracy: 0.8594\n",
            "Epoch 14/40\n",
            "8/8 [==============================] - 13s 2s/step - loss: 0.6727 - accuracy: 0.6024 - val_loss: 0.5996 - val_accuracy: 0.9844\n",
            "Epoch 15/40\n",
            "8/8 [==============================] - 10s 1s/step - loss: 0.6609 - accuracy: 0.6172 - val_loss: 0.5368 - val_accuracy: 0.9844\n",
            "Epoch 16/40\n",
            "8/8 [==============================] - 9s 1s/step - loss: 0.6322 - accuracy: 0.6250 - val_loss: 0.4992 - val_accuracy: 1.0000\n",
            "Epoch 17/40\n",
            "8/8 [==============================] - 10s 1s/step - loss: 0.6363 - accuracy: 0.6586 - val_loss: 0.4133 - val_accuracy: 1.0000\n",
            "Epoch 18/40\n",
            "8/8 [==============================] - 9s 1s/step - loss: 0.6255 - accuracy: 0.6406 - val_loss: 0.5788 - val_accuracy: 0.8906\n",
            "Epoch 19/40\n",
            "8/8 [==============================] - 9s 1s/step - loss: 0.6274 - accuracy: 0.6992 - val_loss: 0.5084 - val_accuracy: 0.9844\n",
            "Epoch 20/40\n",
            "8/8 [==============================] - 9s 1s/step - loss: 0.6371 - accuracy: 0.6758 - val_loss: 0.5167 - val_accuracy: 0.9844\n",
            "Epoch 21/40\n",
            "8/8 [==============================] - 8s 1s/step - loss: 0.5909 - accuracy: 0.6953 - val_loss: 0.4655 - val_accuracy: 0.9688\n",
            "Epoch 22/40\n",
            "8/8 [==============================] - 6s 824ms/step - loss: 0.5669 - accuracy: 0.7390 - val_loss: 0.4863 - val_accuracy: 0.7812\n",
            "Epoch 23/40\n",
            "8/8 [==============================] - 7s 848ms/step - loss: 0.5257 - accuracy: 0.7344 - val_loss: 0.3346 - val_accuracy: 1.0000\n",
            "Epoch 24/40\n",
            "8/8 [==============================] - 6s 844ms/step - loss: 0.5765 - accuracy: 0.7227 - val_loss: 0.3933 - val_accuracy: 0.9688\n",
            "Epoch 25/40\n",
            "8/8 [==============================] - 7s 941ms/step - loss: 0.5311 - accuracy: 0.7617 - val_loss: 0.4167 - val_accuracy: 0.9531\n",
            "Epoch 26/40\n",
            "8/8 [==============================] - 7s 986ms/step - loss: 0.4942 - accuracy: 0.7734 - val_loss: 0.2558 - val_accuracy: 1.0000\n",
            "Epoch 27/40\n",
            "8/8 [==============================] - 7s 919ms/step - loss: 0.4758 - accuracy: 0.7695 - val_loss: 0.4532 - val_accuracy: 0.8438\n",
            "Epoch 28/40\n",
            "8/8 [==============================] - 7s 917ms/step - loss: 0.5133 - accuracy: 0.7852 - val_loss: 0.2004 - val_accuracy: 0.9688\n",
            "Epoch 29/40\n",
            "8/8 [==============================] - 7s 857ms/step - loss: 0.4177 - accuracy: 0.8047 - val_loss: 0.2263 - val_accuracy: 1.0000\n",
            "Epoch 30/40\n",
            "8/8 [==============================] - 7s 864ms/step - loss: 0.5550 - accuracy: 0.8086 - val_loss: 0.2527 - val_accuracy: 0.9844\n",
            "Epoch 31/40\n",
            "8/8 [==============================] - 6s 842ms/step - loss: 0.4712 - accuracy: 0.8164 - val_loss: 0.3167 - val_accuracy: 0.9688\n",
            "Epoch 32/40\n",
            "8/8 [==============================] - 7s 869ms/step - loss: 0.4761 - accuracy: 0.8112 - val_loss: 0.2154 - val_accuracy: 0.9688\n",
            "Epoch 33/40\n",
            "8/8 [==============================] - 7s 905ms/step - loss: 0.5000 - accuracy: 0.8164 - val_loss: 0.3382 - val_accuracy: 0.9688\n",
            "Epoch 34/40\n",
            "8/8 [==============================] - 6s 839ms/step - loss: 0.4712 - accuracy: 0.7734 - val_loss: 0.2398 - val_accuracy: 0.9844\n",
            "Epoch 35/40\n",
            "8/8 [==============================] - 6s 845ms/step - loss: 0.4045 - accuracy: 0.8281 - val_loss: 0.1988 - val_accuracy: 1.0000\n",
            "Epoch 36/40\n",
            "8/8 [==============================] - 6s 837ms/step - loss: 0.4701 - accuracy: 0.8047 - val_loss: 0.1456 - val_accuracy: 1.0000\n",
            "Epoch 37/40\n",
            "8/8 [==============================] - 7s 893ms/step - loss: 0.4287 - accuracy: 0.7969 - val_loss: 0.1833 - val_accuracy: 0.9531\n",
            "Epoch 38/40\n",
            "8/8 [==============================] - 7s 882ms/step - loss: 0.4588 - accuracy: 0.8477 - val_loss: 0.0953 - val_accuracy: 1.0000\n",
            "Epoch 39/40\n",
            "8/8 [==============================] - 7s 871ms/step - loss: 0.4354 - accuracy: 0.7969 - val_loss: 0.1658 - val_accuracy: 0.9688\n",
            "Epoch 40/40\n",
            "8/8 [==============================] - 6s 854ms/step - loss: 0.4217 - accuracy: 0.8072 - val_loss: 0.2426 - val_accuracy: 0.9688\n"
          ]
        }
      ]
    },
    {
      "cell_type": "code",
      "metadata": {
        "id": "oO31IcR5zIm3"
      },
      "source": [
        "# Class Activation Maps\n",
        "# Grad-CAM "
      ],
      "execution_count": 11,
      "outputs": []
    },
    {
      "cell_type": "code",
      "metadata": {
        "id": "fTpdKm8Lxz6z",
        "colab": {
          "base_uri": "https://localhost:8080/",
          "height": 286
        },
        "outputId": "b2467182-0d52-4296-a6a3-7e0cdd6e3848"
      },
      "source": [
        "path= \"/content/drive/Shareddrives/PULCA/Dataset/test/Normal/133.jpeg\"\n",
        "img = image.load_img(path, target_size=(224, 224, 3))\n",
        "img = image.img_to_array(img)/255\n",
        "plt.imshow(img)\n",
        "img=np.array([img])\n",
        "img.shape"
      ],
      "execution_count": 12,
      "outputs": [
        {
          "output_type": "execute_result",
          "data": {
            "text/plain": [
              "(1, 224, 224, 3)"
            ]
          },
          "metadata": {},
          "execution_count": 12
        },
        {
          "output_type": "display_data",
          "data": {
            "text/plain": [
              "<Figure size 432x288 with 1 Axes>"
            ],
            "image/png": "[encoded data removed]"
          },
          "metadata": {
            "needs_background": "light"
          }
        }
      ]
    },
    {
      "cell_type": "code",
      "source": [
        "predictions = (model.predict(img) > 0.5).astype(\"int32\")"
      ],
      "metadata": {
        "id": "gmA6vCYMdCxs"
      },
      "execution_count": 13,
      "outputs": []
    },
    {
      "cell_type": "code",
      "source": [
        "predictions"
      ],
      "metadata": {
        "id": "6IgpBzlPdpHq",
        "colab": {
          "base_uri": "https://localhost:8080/"
        },
        "outputId": "8c43f5ef-0795-493f-a4e7-a19189179d2b"
      },
      "execution_count": 14,
      "outputs": [
        {
          "output_type": "execute_result",
          "data": {
            "text/plain": [
              "array([[1]], dtype=int32)"
            ]
          },
          "metadata": {},
          "execution_count": 14
        }
      ]
    }
  ]
}